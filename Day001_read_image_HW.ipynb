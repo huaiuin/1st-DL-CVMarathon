{
 "cells": [
  {
   "cell_type": "code",
   "execution_count": 1,
   "metadata": {},
   "outputs": [],
   "source": [
    "import cv2;\n",
    "\n",
    "# 以彩色圖片的方式載入\n",
    "img_bgr = cv2.imread('picture/lena.png');\n",
    "# 以灰階圖片的方式載入\n",
    "img_gray = cv2.imread('picture/lena.png',cv2.IMREAD_GRAYSCALE);\n",
    "\n",
    "#為了要不斷顯示圖片，所以使用一個迴圈\n",
    "while True:\n",
    "    # 顯示圖片\n",
    "    cv2.imshow('rgb',img_bgr);\n",
    "    # 顯示灰圖\n",
    "    cv2.imshow('gray',img_gray);\n",
    "    \n",
    "    # 直到按下ESC鍵才會自動關閉視窗結束視窗\n",
    "    k = cv2.waitKey(0);\n",
    "    if k== 27:\n",
    "        cv2.destroyAllWindows();\n",
    "        break;"
   ]
  },
  {
   "cell_type": "code",
   "execution_count": 2,
   "metadata": {},
   "outputs": [],
   "source": [
    "import numpy as np;\n",
    "import cv2;\n",
    "\n",
    "img_bgr = cv2.imread('picture/box_in_scene.png');\n",
    "B,G,R = cv2.split(img_bgr);\n",
    "zeros = np.zeros(img_bgr.shape[:2],dtype=\"uint8\")\n",
    "while True:\n",
    "    cv2.imshow('Blue',cv2.merge([B,zeros,zeros]));\n",
    "    cv2.imshow('Green',cv2.merge([zeros,G,zeros]));\n",
    "    cv2.imshow('Red',cv2.merge([zeros,zeros,R]));\n",
    "    cv2.imshow('Merge',cv2.merge([B,G,R]));\n",
    "    \n",
    "    k = cv2.waitKey(0);\n",
    "    if k== 27:\n",
    "        cv2.destroyAllWindows();\n",
    "        break;"
   ]
  },
  {
   "cell_type": "code",
   "execution_count": null,
   "metadata": {},
   "outputs": [],
   "source": []
  },
  {
   "cell_type": "code",
   "execution_count": null,
   "metadata": {},
   "outputs": [],
   "source": []
  }
 ],
 "metadata": {
  "kernelspec": {
   "display_name": "Python 3",
   "language": "python",
   "name": "python3"
  },
  "language_info": {
   "codemirror_mode": {
    "name": "ipython",
    "version": 3
   },
   "file_extension": ".py",
   "mimetype": "text/x-python",
   "name": "python",
   "nbconvert_exporter": "python",
   "pygments_lexer": "ipython3",
   "version": "3.7.6"
  }
 },
 "nbformat": 4,
 "nbformat_minor": 4
}
