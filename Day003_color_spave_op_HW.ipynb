{
 "cells": [
  {
   "cell_type": "markdown",
   "metadata": {},
   "source": [
    "# 作業\n",
    "實作各種不一樣的方式來調整飽和 / 對比 / 明亮\n",
    "\n",
    "改變 color space 來調整飽和度\n",
    "實作直方圖均衡\n",
    "alpha/ beta 調整對比 / 明亮"
   ]
  },
  {
   "cell_type": "code",
   "execution_count": 1,
   "metadata": {},
   "outputs": [],
   "source": [
    "import cv2\n",
    "import numpy as np\n",
    "\n",
    "img_path = 'picture/lena.png'\n",
    "\n",
    "img = cv2.imread(img_path,cv2.IMREAD_COLOR)"
   ]
  },
  {
   "cell_type": "markdown",
   "metadata": {},
   "source": [
    "# 改變飽和度\n",
    "轉換成 HSV color space, 改變 s channel 的值"
   ]
  },
  {
   "cell_type": "code",
   "execution_count": 2,
   "metadata": {},
   "outputs": [],
   "source": [
    "# 為了改變飽和度，我們先把color space 轉乘HSV格式\n",
    "img_hsv = cv2.cvtColor(img,cv2.COLOR_BGR2HSV)\n",
    "change_percentage = 0.2\n",
    "\n",
    "#針對飽和度的值做改變，超過界線0~1的都會bound\n",
    "#在HSV color space減少飽和度\n",
    "img_hsv_down = img_hsv.astype('float32')\n",
    "img_hsv_down[...,-1] = img[...,-1]/255 - change_percentage\n",
    "img_hsv_down[img_hsv_down[...,-1]<0]=0\n",
    "img_hsv_down[...,-1] = img_hsv_down[...,-1]*255\n",
    "img_hsv_down= img_hsv_down.astype('uint8')\n",
    "\n",
    "# 在HLS color space增加飽和度\n",
    "img_hsv_up =img.astype('float32')\n",
    "img_hsv_up[...,-1] = img_hsv_up[...,-1]/255 + change_percentage\n",
    "img_hsv_up[img_hsv_up[...,-1] > 1] = 1\n",
    "img_hsv_up[...,-1] = img_hsv_up[...,-1]*255\n",
    "img_hsv_up= img_hsv_up.astype('uint8')\n",
    "\n",
    "#轉換\n",
    "img_hsv_down =cv2.cvtColor(img_hsv_down,cv2.COLOR_HSV2BGR)\n",
    "img_hsv_up =cv2.cvtColor(img_hsv_up,cv2.COLOR_HSV2BGR)\n",
    "\n",
    "#組合圖片 + 顯示圖片\n",
    "img_hsv_change = np.hstack((img,img_hsv_down,img_hsv_up))\n",
    "while True:\n",
    "    cv2.imshow('change saturation',img_hsv_change)\n",
    "    \n",
    "    k = cv2.waitKey(0)\n",
    "    if k == 27:\n",
    "        cv2.destroyAllWindows()\n",
    "        break"
   ]
  },
  {
   "cell_type": "markdown",
   "metadata": {},
   "source": [
    "# 直方圖均衡\n",
    "- case 1: 把彩圖拆開對每個 channel 個別做直方圖均衡再組合起來\n",
    "- case 2: 轉換 color space 到 HSV 之後對其中一個 channel 做直方圖均衡"
   ]
  },
  {
   "cell_type": "code",
   "execution_count": 4,
   "metadata": {},
   "outputs": [],
   "source": [
    "# 轉為灰階圖片\n",
    "img_gray = cv2.cvtColor(img, cv2.COLOR_BGR2GRAY)\n",
    "\n",
    "# 灰階圖片直方圖均衡\n",
    "img_gray_equal = cv2.equalizeHist(img_gray)\n",
    "\n",
    "# 組合圖片+顯示圖片\n",
    "img_gray_equalHist = np.hstack((img_gray, img_gray_equal))\n",
    "\n",
    "while True:\n",
    "    cv2.imshow('gray equal histogram', img_gray_equalHist)\n",
    "    \n",
    "    k = cv2.waitKey(0)\n",
    "    if k == 27:\n",
    "        cv2.destroyAllWindows()\n",
    "        break"
   ]
  },
  {
   "cell_type": "markdown",
   "metadata": {},
   "source": [
    "# 調整對比 / 明亮"
   ]
  },
  {
   "cell_type": "code",
   "execution_count": 5,
   "metadata": {},
   "outputs": [],
   "source": [
    "# alpha:控制對比度(1.0~3.0)\n",
    "#beta:控制明亮度(0~255)\n",
    "add_contrast = cv2.convertScaleAbs(img,alpha=2.0,beta=0)\n",
    "add_lighness = cv2.convertScaleAbs(img,alpha=1.0,beta=50)\n",
    "\n",
    "#組合圖片 + 顯示圖片\n",
    "img_contrast_light = np.hstack((img,add_contrast,add_lighness))\n",
    "while True:\n",
    "    #比較不同程度的對比/明亮\n",
    "    cv2.imshow('adjust contrast and brighness',img_contrast_light)\n",
    "    k=cv2.waitKey(0)\n",
    "    if k==27:\n",
    "        cv2.destroyAllWindows()\n",
    "        break"
   ]
  },
  {
   "cell_type": "code",
   "execution_count": null,
   "metadata": {},
   "outputs": [],
   "source": []
  }
 ],
 "metadata": {
  "kernelspec": {
   "display_name": "Python 3",
   "language": "python",
   "name": "python3"
  },
  "language_info": {
   "codemirror_mode": {
    "name": "ipython",
    "version": 3
   },
   "file_extension": ".py",
   "mimetype": "text/x-python",
   "name": "python",
   "nbconvert_exporter": "python",
   "pygments_lexer": "ipython3",
   "version": "3.7.6"
  }
 },
 "nbformat": 4,
 "nbformat_minor": 4
}
